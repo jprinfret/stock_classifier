{
 "cells": [
  {
   "cell_type": "markdown",
   "metadata": {},
   "source": [
    "# MySQL (if needed)"
   ]
  },
  {
   "cell_type": "code",
   "execution_count": null,
   "metadata": {},
   "outputs": [],
   "source": [
    "import mysql.connector\n",
    "import config"
   ]
  },
  {
   "cell_type": "code",
   "execution_count": null,
   "metadata": {},
   "outputs": [],
   "source": [
    "# Define db_name\n",
    "db_name = 'stock_data'"
   ]
  },
  {
   "cell_type": "code",
   "execution_count": null,
   "metadata": {},
   "outputs": [],
   "source": [
    "# Connect to MySql and define cursor\n",
    "cnx = mysql.connector.connect(\n",
    "        host = config.host,\n",
    "        user = config.user,\n",
    "        password = config.password,\n",
    ")\n",
    "cursor = cnx.cursor()\n",
    "\n",
    "# Create a database and close cursor/cnx\n",
    "cursor.execute(\"CREATE DATABASE {} DEFAULT CHARACTER SET 'utf8'\".format(db_name))\n",
    "cursor.close()\n",
    "cnx.close()"
   ]
  },
  {
   "cell_type": "code",
   "execution_count": null,
   "metadata": {},
   "outputs": [],
   "source": [
    "# Reestablish connection and specify database\n",
    "cnx = mysql.connector.connect(\n",
    "        host = config.host,\n",
    "        user = config.user,\n",
    "        password = config.password,\n",
    "        database = db_name\n",
    ")\n",
    "cursor = cnx.cursor()"
   ]
  },
  {
   "cell_type": "code",
   "execution_count": null,
   "metadata": {},
   "outputs": [],
   "source": [
    "# cursor.close()\n",
    "# cnx.close()\n",
    "\n",
    "cursor.execute('''DROP TABLE fundamental_data''')"
   ]
  },
  {
   "cell_type": "code",
   "execution_count": null,
   "metadata": {},
   "outputs": [],
   "source": [
    "# Create a table for the data to live\n",
    "create_table_querey = \"\"\" \n",
    "CREATE TABLE fundamental_data (\n",
    "     ticker varchar(6),\n",
    "     company_name varchar(40),\n",
    "     price float(10),\n",
    "     shares_outstanding float(20),\n",
    "     market_cap float(20),\n",
    "     52_week_delta float(10),\n",
    "     dividend_payout_ratio float(10),\n",
    "     foward_eps float(10),\n",
    "     trailing_eps float(10),\n",
    "     g_earnings float(10),\n",
    "     g_revenue float(10),\n",
    "     gross_margin_pct float(10),\n",
    "     ebitda_margin_pct float(10),\n",
    "     price_to_foward_earnings float(10),\n",
    "     price_to_trailing_earnings float(10),\n",
    "     price_to_book float(10),\n",
    "     price_to_free_cash_flow float(10),\n",
    "     debt_to_equity float(10),\n",
    "     return_on_assets float(10),\n",
    "     return_on_equity float(10),\n",
    "     largest_institutional_owner varchar(40),\n",
    "     recommendation varchar(10)\n",
    "     )\n",
    " \"\"\"\n",
    "\n",
    "cursor.execute(create_table_querey)"
   ]
  },
  {
   "cell_type": "code",
   "execution_count": null,
   "metadata": {},
   "outputs": [],
   "source": [
    "insert_query = \"\"\"\n",
    "INSERT INTO fundamental_data (\n",
    "    ticker,\n",
    "    company_name,\n",
    "    price,\n",
    "    shares_outstanding,\n",
    "    market_cap,\n",
    "    52_week_delta,\n",
    "    dividend_payout_ratio,\n",
    "    foward_eps,\n",
    "    trailing_eps,\n",
    "    g_earnings,\n",
    "    g_revenue,\n",
    "    gross_margin_pct,\n",
    "    ebitda_margin_pct,\n",
    "    price_to_foward_earnings,\n",
    "    price_to_trailing_earnings,\n",
    "    price_to_book,\n",
    "    price_to_free_cash_flow,\n",
    "    debt_to_equity,\n",
    "    return_on_assets,\n",
    "    return_on_equity,\n",
    "    largest_institutional_owner,\n",
    "    recommendation\n",
    "    )\n",
    "VALUES (\n",
    "    %s,\n",
    "    %s,\n",
    "    %s,\n",
    "    %s,\n",
    "    %s,\n",
    "    %s,\n",
    "    %s,\n",
    "    %s,\n",
    "    %s,\n",
    "    %s,\n",
    "    %s,\n",
    "    %s,\n",
    "    %s,\n",
    "    %s,\n",
    "    %s,\n",
    "    %s,\n",
    "    %s,\n",
    "    %s,\n",
    "    %s,\n",
    "    %s,\n",
    "    %s,\n",
    "    %s\n",
    "    )\n",
    "\"\"\"\n",
    "\n",
    "# for i in range(len(fundamental_data)):\n",
    "cursor.executemany(insert_query, data)\n",
    "cnx.commit()"
   ]
  },
  {
   "cell_type": "code",
   "execution_count": null,
   "metadata": {},
   "outputs": [],
   "source": []
  },
  {
   "cell_type": "code",
   "execution_count": null,
   "metadata": {},
   "outputs": [],
   "source": []
  }
 ],
 "metadata": {
  "kernelspec": {
   "display_name": "Python 3",
   "language": "python",
   "name": "python3"
  },
  "language_info": {
   "codemirror_mode": {
    "name": "ipython",
    "version": 3
   },
   "file_extension": ".py",
   "mimetype": "text/x-python",
   "name": "python",
   "nbconvert_exporter": "python",
   "pygments_lexer": "ipython3",
   "version": "3.7.3"
  }
 },
 "nbformat": 4,
 "nbformat_minor": 2
}

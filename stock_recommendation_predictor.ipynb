{
 "cells": [
  {
   "cell_type": "markdown",
   "metadata": {},
   "source": [
    "# Classifying Common Stock as Value or Growth"
   ]
  },
  {
   "cell_type": "markdown",
   "metadata": {},
   "source": [
    "## Import Packages"
   ]
  },
  {
   "cell_type": "code",
   "execution_count": 25,
   "metadata": {},
   "outputs": [],
   "source": [
    "import requests\n",
    "import config\n",
    "import pandas as pd\n",
    "import numpy as np\n",
    "import matplotlib.pyplot as plt\n",
    "%matplotlib inline\n",
    "import seaborn as sns\n",
    "import re\n",
    "import mysql.connector\n",
    "import config"
   ]
  },
  {
   "cell_type": "markdown",
   "metadata": {},
   "source": [
    "## MySQL - Creating Database"
   ]
  },
  {
   "cell_type": "code",
   "execution_count": 28,
   "metadata": {},
   "outputs": [],
   "source": [
    "# Define db_name\n",
    "db_name = 'stock_data'"
   ]
  },
  {
   "cell_type": "code",
   "execution_count": null,
   "metadata": {},
   "outputs": [],
   "source": [
    "# Connect to MySql and define cursor\n",
    "cnx = mysql.connector.connect(\n",
    "        host = config.host,\n",
    "        user = config.user,\n",
    "        password = config.password,\n",
    ")\n",
    "cursor = cnx.cursor()\n",
    "\n",
    "# Create a database and close cursor/cnx\n",
    "cursor.execute(\"CREATE DATABASE {} DEFAULT CHARACTER SET 'utf8'\".format(db_name))\n",
    "cursor.close()\n",
    "cnx.close()"
   ]
  },
  {
   "cell_type": "code",
   "execution_count": 31,
   "metadata": {},
   "outputs": [],
   "source": [
    "# Reestablish connection and specify database\n",
    "cnx = mysql.connector.connect(\n",
    "        host = config.host,\n",
    "        user = config.user,\n",
    "        password = config.password,\n",
    "        database = db_name\n",
    ")\n",
    "cursor = cnx.cursor()"
   ]
  },
  {
   "cell_type": "code",
   "execution_count": 139,
   "metadata": {},
   "outputs": [],
   "source": [
    "# cursor.close()\n",
    "# cnx.close()\n",
    "\n",
    "cursor.execute('''DROP TABLE fundamental_data''')"
   ]
  },
  {
   "cell_type": "code",
   "execution_count": 140,
   "metadata": {},
   "outputs": [],
   "source": [
    "# Create a table for the data to live\n",
    "create_table_querey = \"\"\" \n",
    "CREATE TABLE fundamental_data (\n",
    "     ticker varchar(6) NOT NULL primary key,\n",
    "     company_name varchar(40),\n",
    "     price float(10),\n",
    "     shares_outstanding float(20),\n",
    "     market_cap float(20),\n",
    "     52_week_delta float(10),\n",
    "     foward_eps float(10),\n",
    "     trailing_eps float(10),\n",
    "     g_revenue float(10),\n",
    "     gross_margin_pct float(10),\n",
    "     ebitda_margin_pct float(10),\n",
    "     price_to_foward_earnings float(10),\n",
    "     price_to_trailing_earnings float(10),\n",
    "     price_to_book float(10),\n",
    "     price_to_free_cash_flow float(10),\n",
    "     debt_to_equity float(10),\n",
    "     return_on_assets float(10),\n",
    "     return_on_equity float(10),\n",
    "     largest_institutional_owner varchar(40),\n",
    "     recommendation varchar(10)\n",
    "     )\n",
    " \"\"\"\n",
    "\n",
    "cursor.execute(create_table_querey)"
   ]
  },
  {
   "cell_type": "markdown",
   "metadata": {},
   "source": [
    "## Make API calls to pull Stock Info"
   ]
  },
  {
   "cell_type": "code",
   "execution_count": 148,
   "metadata": {},
   "outputs": [
    {
     "data": {
      "text/plain": [
       "3611"
      ]
     },
     "execution_count": 148,
     "metadata": {},
     "output_type": "execute_result"
    }
   ],
   "source": [
    "#create a dataframe of company details (name and ticker) to pull ticker\n",
    "df = pd.read_csv('tickers.txt')\n",
    "companies = df['details'].tolist()\n",
    "re.findall(r\"(\\w*)$\", companies[0])[0]\n",
    "tickers = [re.findall(r\"\\w*$\", company)[0] for company in companies]"
   ]
  },
  {
   "cell_type": "code",
   "execution_count": 149,
   "metadata": {},
   "outputs": [],
   "source": [
    "querystring = [] \n",
    "for ticker in tickers:\n",
    "    tickers_dict = {}\n",
    "    tickers_dict['symbol'] = ticker\n",
    "    querystring.append(tickers_dict)"
   ]
  },
  {
   "cell_type": "code",
   "execution_count": 151,
   "metadata": {},
   "outputs": [
    {
     "data": {
      "text/plain": [
       "'PIH'"
      ]
     },
     "execution_count": 151,
     "metadata": {},
     "output_type": "execute_result"
    }
   ],
   "source": [
    "querystring[0]['symbol']"
   ]
  },
  {
   "cell_type": "code",
   "execution_count": 154,
   "metadata": {},
   "outputs": [
    {
     "name": "stdout",
     "output_type": "stream",
     "text": [
      "1. Added ticker: {'symbol': 'PIH'}. 3610 stocks remaining\n",
      "2. Added ticker: {'symbol': 'FLWS'}. 3609 stocks remaining\n"
     ]
    }
   ],
   "source": [
    "data = []\n",
    "count = 1\n",
    "for ticker in querystring[:2]:\n",
    "    url = config.api_url\n",
    "    params = {\"region\":\"US\",\"lang\":\"en\",\"symbol\":ticker['symbol']}\n",
    "    headers = {\n",
    "        'x-rapidapi-host': config.api_host,\n",
    "        'x-rapidapi-key': config.api_key\n",
    "        }\n",
    "    response = requests.get(url, headers=headers, params=params)\n",
    "    data.append(response.json())\n",
    "    print(f'{count}. Added ticker: {ticker}. {len(querystring)-count} stocks remaining')\n",
    "    count += 1"
   ]
  },
  {
   "cell_type": "code",
   "execution_count": 162,
   "metadata": {},
   "outputs": [
    {
     "data": {
      "text/plain": [
       "52.765"
      ]
     },
     "execution_count": 162,
     "metadata": {},
     "output_type": "execute_result"
    }
   ],
   "source": [
    "data[1]['financialData']['debtToEquity']['raw']"
   ]
  },
  {
   "cell_type": "code",
   "execution_count": 160,
   "metadata": {},
   "outputs": [
    {
     "ename": "KeyError",
     "evalue": "'raw'",
     "output_type": "error",
     "traceback": [
      "\u001b[0;31m--------------------------------\u001b[0m",
      "\u001b[0;31mKeyError\u001b[0mTraceback (most recent call last)",
      "\u001b[0;32m<ipython-input-160-61674a14c513>\u001b[0m in \u001b[0;36m<module>\u001b[0;34m\u001b[0m\n\u001b[1;32m     18\u001b[0m     \u001b[0mfundamentals\u001b[0m\u001b[0;34m[\u001b[0m\u001b[0;34m'price_to_book'\u001b[0m\u001b[0;34m]\u001b[0m \u001b[0;34m=\u001b[0m \u001b[0mcompany\u001b[0m\u001b[0;34m[\u001b[0m\u001b[0;34m'defaultKeyStatistics'\u001b[0m\u001b[0;34m]\u001b[0m\u001b[0;34m[\u001b[0m\u001b[0;34m'priceToBook'\u001b[0m\u001b[0;34m]\u001b[0m\u001b[0;34m[\u001b[0m\u001b[0;34m'raw'\u001b[0m\u001b[0;34m]\u001b[0m\u001b[0;34m,\u001b[0m\u001b[0;34m\u001b[0m\u001b[0;34m\u001b[0m\u001b[0m\n\u001b[1;32m     19\u001b[0m     \u001b[0mfundamentals\u001b[0m\u001b[0;34m[\u001b[0m\u001b[0;34m'price_to_free_cash_flow'\u001b[0m\u001b[0;34m]\u001b[0m \u001b[0;34m=\u001b[0m \u001b[0mround\u001b[0m\u001b[0;34m(\u001b[0m\u001b[0mcompany\u001b[0m\u001b[0;34m[\u001b[0m\u001b[0;34m'financialData'\u001b[0m\u001b[0;34m]\u001b[0m\u001b[0;34m[\u001b[0m\u001b[0;34m'currentPrice'\u001b[0m\u001b[0;34m]\u001b[0m\u001b[0;34m[\u001b[0m\u001b[0;34m'raw'\u001b[0m\u001b[0;34m]\u001b[0m\u001b[0;34m/\u001b[0m\u001b[0mcompany\u001b[0m\u001b[0;34m[\u001b[0m\u001b[0;34m'financialData'\u001b[0m\u001b[0;34m]\u001b[0m\u001b[0;34m[\u001b[0m\u001b[0;34m'freeCashflow'\u001b[0m\u001b[0;34m]\u001b[0m\u001b[0;34m[\u001b[0m\u001b[0;34m'raw'\u001b[0m\u001b[0;34m]\u001b[0m\u001b[0;34m,\u001b[0m \u001b[0;36m3\u001b[0m\u001b[0;34m)\u001b[0m\u001b[0;34m,\u001b[0m\u001b[0;34m\u001b[0m\u001b[0;34m\u001b[0m\u001b[0m\n\u001b[0;32m---> 20\u001b[0;31m     \u001b[0mfundamentals\u001b[0m\u001b[0;34m[\u001b[0m\u001b[0;34m'debt_to_equity'\u001b[0m\u001b[0;34m]\u001b[0m \u001b[0;34m=\u001b[0m \u001b[0mcompany\u001b[0m\u001b[0;34m[\u001b[0m\u001b[0;34m'financialData'\u001b[0m\u001b[0;34m]\u001b[0m\u001b[0;34m[\u001b[0m\u001b[0;34m'debtToEquity'\u001b[0m\u001b[0;34m]\u001b[0m\u001b[0;34m[\u001b[0m\u001b[0;34m'raw'\u001b[0m\u001b[0;34m]\u001b[0m\u001b[0;34m,\u001b[0m\u001b[0;34m\u001b[0m\u001b[0;34m\u001b[0m\u001b[0m\n\u001b[0m\u001b[1;32m     21\u001b[0m     \u001b[0mfundamentals\u001b[0m\u001b[0;34m[\u001b[0m\u001b[0;34m'return_on_assets'\u001b[0m\u001b[0;34m]\u001b[0m \u001b[0;34m=\u001b[0m \u001b[0mcompany\u001b[0m\u001b[0;34m[\u001b[0m\u001b[0;34m'financialData'\u001b[0m\u001b[0;34m]\u001b[0m\u001b[0;34m[\u001b[0m\u001b[0;34m'returnOnAssets'\u001b[0m\u001b[0;34m]\u001b[0m\u001b[0;34m[\u001b[0m\u001b[0;34m'raw'\u001b[0m\u001b[0;34m]\u001b[0m\u001b[0;34m,\u001b[0m\u001b[0;34m\u001b[0m\u001b[0;34m\u001b[0m\u001b[0m\n\u001b[1;32m     22\u001b[0m     \u001b[0mfundamentals\u001b[0m\u001b[0;34m[\u001b[0m\u001b[0;34m'return_on_equity'\u001b[0m\u001b[0;34m]\u001b[0m \u001b[0;34m=\u001b[0m \u001b[0mcompany\u001b[0m\u001b[0;34m[\u001b[0m\u001b[0;34m'financialData'\u001b[0m\u001b[0;34m]\u001b[0m\u001b[0;34m[\u001b[0m\u001b[0;34m'returnOnEquity'\u001b[0m\u001b[0;34m]\u001b[0m\u001b[0;34m[\u001b[0m\u001b[0;34m'raw'\u001b[0m\u001b[0;34m]\u001b[0m\u001b[0;34m,\u001b[0m\u001b[0;34m\u001b[0m\u001b[0;34m\u001b[0m\u001b[0m\n",
      "\u001b[0;31mKeyError\u001b[0m: 'raw'"
     ]
    }
   ],
   "source": [
    "fundamental_data = []\n",
    "\n",
    "for company in data:\n",
    "    fundamentals = {}\n",
    "    fundamentals['ticker'] = company['symbol'],\n",
    "    fundamentals['company_name'] = company['price']['shortName'],\n",
    "    fundamentals['price'] = company['financialData']['currentPrice']['raw'],\n",
    "    fundamentals['shares_outstanding'] = company['defaultKeyStatistics']['sharesOutstanding']['raw'],\n",
    "    fundamentals['market_cap'] = company['defaultKeyStatistics']['sharesOutstanding']['raw']*company['financialData']['currentPrice']['raw'],\n",
    "    fundamentals['52_week_delta'] = company['defaultKeyStatistics']['52WeekChange']['raw'],\n",
    "    fundamentals['foward_eps'] = company['defaultKeyStatistics']['forwardEps']['raw'],\n",
    "    fundamentals['trailing_eps'] = company['defaultKeyStatistics']['trailingEps']['raw'],\n",
    "    fundamentals['g_revenue'] = company['financialData']['revenueGrowth']['raw'],\n",
    "    fundamentals['gross_margin_pct'] = company['financialData']['grossMargins']['raw'],\n",
    "    fundamentals['ebitda_margin_pct'] = company['financialData']['ebitdaMargins']['raw'],\n",
    "    fundamentals['price_to_foward_earnings'] = round(company['financialData']['currentPrice']['raw']/company['defaultKeyStatistics']['forwardEps']['raw'],3),\n",
    "    fundamentals['price_to_trailing_earnings'] = round(company['financialData']['currentPrice']['raw']/company['defaultKeyStatistics']['trailingEps']['raw'],3),\n",
    "    fundamentals['price_to_book'] = company['defaultKeyStatistics']['priceToBook']['raw'],\n",
    "    fundamentals['price_to_free_cash_flow'] = round(company['financialData']['currentPrice']['raw']/company['financialData']['freeCashflow']['raw'], 3),\n",
    "    fundamentals['debt_to_equity'] = company['financialData']['debtToEquity']['raw'],\n",
    "    fundamentals['return_on_assets'] = company['financialData']['returnOnAssets']['raw'],\n",
    "    fundamentals['return_on_equity'] = company['financialData']['returnOnEquity']['raw'],\n",
    "    fundamentals['largest_institutional_owner'] = company['institutionOwnership']['ownershipList'][0]['organization'],\n",
    "    fundamentals['recommendation'] = company['financialData']['recommendationKey']\n",
    "    fundamental_data.append(fundamentals)"
   ]
  },
  {
   "cell_type": "code",
   "execution_count": 142,
   "metadata": {},
   "outputs": [
    {
     "data": {
      "text/plain": [
       "{'ticker': 'NBEV',\n",
       " 'company_name': 'New Age Beverages Corporation',\n",
       " 'price': 2,\n",
       " 'shares_outstanding': 78394000,\n",
       " 'market_cap': 156788000,\n",
       " '52_week_delta': -0.6111111,\n",
       " 'foward_eps': -0.16,\n",
       " 'trailing_eps': -0.358,\n",
       " 'g_revenue': 4.273,\n",
       " 'gross_margin_pct': 0.59978,\n",
       " 'ebitda_margin_pct': -0.11078,\n",
       " 'price_to_foward_earnings': -12.5,\n",
       " 'price_to_trailing_earnings': -5.587,\n",
       " 'price_to_book': 1.0432968,\n",
       " 'price_to_free_cash_flow': 0.0,\n",
       " 'debt_to_equity': 43.438,\n",
       " 'return_on_assets': -0.09328,\n",
       " 'return_on_equity': -0.22198999,\n",
       " 'largest_institutional_owner': 'Blackrock Inc.',\n",
       " 'recommendation': 'buy'}"
      ]
     },
     "execution_count": 142,
     "metadata": {},
     "output_type": "execute_result"
    }
   ],
   "source": [
    "fundamental_data"
   ]
  },
  {
   "cell_type": "code",
   "execution_count": 143,
   "metadata": {},
   "outputs": [],
   "source": [
    "fundamentals_tuple = [(\n",
    "    fundamentals['ticker'],\n",
    "    fundamentals['company_name'],\n",
    "    fundamentals['price'],\n",
    "    fundamentals['shares_outstanding'],\n",
    "    fundamentals['market_cap'],\n",
    "    fundamentals['52_week_delta'],\n",
    "    fundamentals['foward_eps'],\n",
    "    fundamentals['trailing_eps'],\n",
    "    fundamentals['g_revenue'],\n",
    "    fundamentals['gross_margin_pct'],\n",
    "    fundamentals['ebitda_margin_pct'],\n",
    "    fundamentals['price_to_foward_earnings'],\n",
    "    fundamentals['price_to_trailing_earnings'],\n",
    "    fundamentals['price_to_book'],\n",
    "    fundamentals['price_to_free_cash_flow'],\n",
    "    fundamentals['debt_to_equity'],\n",
    "    fundamentals['return_on_assets'],\n",
    "    fundamentals['return_on_equity'],\n",
    "    fundamentals['largest_institutional_owner'],\n",
    "    fundamentals['recommendation']\n",
    ")]"
   ]
  },
  {
   "cell_type": "code",
   "execution_count": 144,
   "metadata": {},
   "outputs": [
    {
     "data": {
      "text/plain": [
       "[('NBEV',\n",
       "  'New Age Beverages Corporation',\n",
       "  2,\n",
       "  78394000,\n",
       "  156788000,\n",
       "  -0.6111111,\n",
       "  -0.16,\n",
       "  -0.358,\n",
       "  4.273,\n",
       "  0.59978,\n",
       "  -0.11078,\n",
       "  -12.5,\n",
       "  -5.587,\n",
       "  1.0432968,\n",
       "  0.0,\n",
       "  43.438,\n",
       "  -0.09328,\n",
       "  -0.22198999,\n",
       "  'Blackrock Inc.',\n",
       "  'buy')]"
      ]
     },
     "execution_count": 144,
     "metadata": {},
     "output_type": "execute_result"
    }
   ],
   "source": [
    "fundamentals_tuple"
   ]
  },
  {
   "cell_type": "code",
   "execution_count": 145,
   "metadata": {},
   "outputs": [],
   "source": [
    "insert_query = \"\"\"\n",
    "INSERT INTO fundamental_data (\n",
    "    ticker,\n",
    "    company_name,\n",
    "    price,\n",
    "    shares_outstanding,\n",
    "    market_cap,\n",
    "    52_week_delta,\n",
    "    foward_eps,\n",
    "    trailing_eps,\n",
    "    g_revenue,\n",
    "    gross_margin_pct,\n",
    "    ebitda_margin_pct,\n",
    "    price_to_foward_earnings,\n",
    "    price_to_trailing_earnings,\n",
    "    price_to_book,\n",
    "    price_to_free_cash_flow,\n",
    "    debt_to_equity,\n",
    "    return_on_assets,\n",
    "    return_on_equity,\n",
    "    largest_institutional_owner,\n",
    "    recommendation\n",
    "    )\n",
    "VALUES (\n",
    "    %s,\n",
    "    %s,\n",
    "    %s,\n",
    "    %s,\n",
    "    %s,\n",
    "    %s,\n",
    "    %s,\n",
    "    %s,\n",
    "    %s,\n",
    "    %s,\n",
    "    %s,\n",
    "    %s,\n",
    "    %s,\n",
    "    %s,\n",
    "    %s,\n",
    "    %s,\n",
    "    %s,\n",
    "    %s,\n",
    "    %s,\n",
    "    %s\n",
    "    )\n",
    "\"\"\""
   ]
  },
  {
   "cell_type": "code",
   "execution_count": 146,
   "metadata": {},
   "outputs": [],
   "source": [
    "cursor.executemany(insert_query, fundamentals_tuple)\n",
    "cnx.commit()"
   ]
  },
  {
   "cell_type": "code",
   "execution_count": null,
   "metadata": {},
   "outputs": [],
   "source": []
  }
 ],
 "metadata": {
  "kernelspec": {
   "display_name": "Python 3",
   "language": "python",
   "name": "python3"
  },
  "language_info": {
   "codemirror_mode": {
    "name": "ipython",
    "version": 3
   },
   "file_extension": ".py",
   "mimetype": "text/x-python",
   "name": "python",
   "nbconvert_exporter": "python",
   "pygments_lexer": "ipython3",
   "version": "3.7.3"
  }
 },
 "nbformat": 4,
 "nbformat_minor": 2
}
